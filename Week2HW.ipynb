{
 "cells": [
  {
   "cell_type": "markdown",
   "id": "5415d390-08a4-4843-a175-257b84c6ed3a",
   "metadata": {},
   "source": [
    "HW Questions (Numpy):\n",
    "1. Define two custom numpy arrays, say A and B. Generate two new numpy arrays by stacking A and B vertically and horizontally."
   ]
  },
  {
   "cell_type": "code",
   "execution_count": 12,
   "id": "037c322d-96c0-44ae-9ea1-edc3f0e5577f",
   "metadata": {},
   "outputs": [
    {
     "name": "stdout",
     "output_type": "stream",
     "text": [
      "[1 2 3]\n",
      "[7 8 9]\n",
      "stacking A and B vertically:\n",
      "[[1 2 3]\n",
      " [7 8 9]]\n",
      "stacking A and B horizontally:\n",
      "[1 2 3 7 8 9]\n"
     ]
    }
   ],
   "source": [
    "import numpy as np\n",
    "\n",
    "A = np.array([1, 2, 3])\n",
    "print(A)\n",
    "\n",
    "B = np.array([7, 8, 9])\n",
    "print(B)\n",
    "\n",
    "vertical_stack = np.vstack((A, B))\n",
    "print(\"stacking A and B vertically:\")\n",
    "print(vertical_stack)\n",
    "\n",
    "horizontally_stack = np.hstack((A, B))\n",
    "print(\"stacking A and B horizontally:\")\n",
    "print(horizontally_stack)\n"
   ]
  },
  {
   "cell_type": "markdown",
   "id": "4de3ac3f-1a35-4195-bd56-4bf156e2e85d",
   "metadata": {},
   "source": [
    "2. Find common elements between A and B. [Hint: Intersection of two sets]"
   ]
  },
  {
   "cell_type": "code",
   "execution_count": 13,
   "id": "781dee25-7225-477c-8e83-d5175b159f3d",
   "metadata": {},
   "outputs": [
    {
     "name": "stdout",
     "output_type": "stream",
     "text": [
      "common elements between A and B \n",
      "[4 5 6]\n"
     ]
    }
   ],
   "source": [
    "import numpy as np\n",
    "\n",
    "A = np.array([1, 2, 3, 4, 5, 6])\n",
    "B = np.array([4, 5, 6, 7, 8])\n",
    "\n",
    "common_elements = np.intersect1d(A, B)\n",
    "\n",
    "print(\"common elements between A and B \")\n",
    "print(common_elements)"
   ]
  },
  {
   "cell_type": "markdown",
   "id": "e27f3e0b-1d56-46e6-b2f9-ff71b0bc133c",
   "metadata": {},
   "source": [
    "3. Extract all numbers from A which are within a specific range. eg between 5 and 10. [Hint: np.where() might be useful or boolean masks]"
   ]
  },
  {
   "cell_type": "code",
   "execution_count": 16,
   "id": "dd3e3d6d-7d5c-481e-9f61-e2b05a1fd159",
   "metadata": {},
   "outputs": [
    {
     "name": "stdout",
     "output_type": "stream",
     "text": [
      "[ 0  1  2  3  4  5  6  7  8  9 10 11 12 13 14 15 16 17 18 19 20]\n",
      "The result of the extracted number :\n",
      "[6 7 8 9]\n"
     ]
    }
   ],
   "source": [
    "import numpy as np\n",
    "\n",
    "A = np.arange(21)\n",
    "\n",
    "print(A)\n",
    "\n",
    "mask = (A > 5) & (A < 10)\n",
    "\n",
    "#print(\"(A > 5) & (A < 10):\")\n",
    "#print(mask)\n",
    "\n",
    "extracted_numbers = A[mask]\n",
    "\n",
    "print(\"The result of the extracted number :\")\n",
    "print(extracted_numbers)"
   ]
  },
  {
   "cell_type": "markdown",
   "id": "b56a58dc-14ea-4f58-b4b7-5a5fbb1d9c7e",
   "metadata": {},
   "source": [
    "4. Filter the rows of iris_2d that has petallength (3rd column) > 1.5 and sepallength (1st column) < 5.0\n",
    "url = 'https://archive.ics.uci.edu/ml/machine-learning-databases/iris/iris.data'\n",
    "iris_2d = np.genfromtxt(url, delimiter=',', dtype='float', usecols=[0,1,2,3])"
   ]
  },
  {
   "cell_type": "code",
   "execution_count": 19,
   "id": "6ba2b989-1f27-4230-be3f-7fa0464630c1",
   "metadata": {},
   "outputs": [
    {
     "name": "stdout",
     "output_type": "stream",
     "text": [
      "After filter\n",
      "[[4.8 3.4 1.6 0.2]\n",
      " [4.8 3.4 1.9 0.2]\n",
      " [4.7 3.2 1.6 0.2]\n",
      " [4.8 3.1 1.6 0.2]\n",
      " [4.9 2.4 3.3 1. ]\n",
      " [4.9 2.5 4.5 1.7]]\n"
     ]
    }
   ],
   "source": [
    "import numpy as np\n",
    "\n",
    "url = 'https://archive.ics.uci.edu/ml/machine-learning-databases/iris/iris.data'\n",
    "iris_2d = np.genfromtxt(url, delimiter=',', dtype='float', usecols=[0,1,2,3])\n",
    "\n",
    "#print(\" Original Iris Data \")\n",
    "#print(iris_2d)\n",
    "\n",
    "# Condition for petallength (3rd column) > 1.5\n",
    "condition_1 = iris_2d[:, 2] > 1.5\n",
    "\n",
    "# Condition for sepallength (1st column) < 5.0\n",
    "condition_2 = iris_2d[:, 0] < 5.0\n",
    "\n",
    "combined_mask = (condition_1) & (condition_2)\n",
    "\n",
    "filtered_rows = iris_2d[combined_mask]\n",
    "\n",
    "print(\"After filter\")\n",
    "print(filtered_rows)\n"
   ]
  },
  {
   "cell_type": "markdown",
   "id": "06f6ad33-8f1a-4fc0-abf1-03389a0d445c",
   "metadata": {},
   "source": [
    "HW Questions (Pandas):\n",
    "1. From df filter the 'Manufacturer', 'Model' and 'Type' for every 20th row starting from 1st (row 0).\n",
    "df = pd.read_csv('https://raw.githubusercontent.com/selva86/datasets/master/Cars93_miss.csv')"
   ]
  },
  {
   "cell_type": "code",
   "execution_count": 23,
   "id": "08d8f0cf-cd18-4594-893e-a4a35c2a11ee",
   "metadata": {},
   "outputs": [
    {
     "name": "stdout",
     "output_type": "stream",
     "text": [
      "   Manufacturer    Model     Type\n",
      "0         Acura  Integra    Small\n",
      "20     Chrysler  LeBaron  Compact\n",
      "40        Honda  Prelude   Sporty\n",
      "60      Mercury   Cougar  Midsize\n",
      "80       Subaru   Loyale    Small\n"
     ]
    }
   ],
   "source": [
    "import pandas as pd\n",
    "\n",
    "df = pd.read_csv('https://raw.githubusercontent.com/selva86/datasets/master/Cars93_miss.csv')\n",
    "\n",
    "filtered_df = df.loc[::20, ['Manufacturer', 'Model', 'Type']]\n",
    "\n",
    "print(filtered_df)"
   ]
  },
  {
   "cell_type": "markdown",
   "id": "51fd640a-6ccb-4a8a-9350-a414576219da",
   "metadata": {},
   "source": [
    "2. Replace missing values in Min.Price and Max.Price columns with their respective mean.\n",
    "df = pd.read_csv('https://raw.githubusercontent.com/selva86/datasets/master/Cars93_miss.csv')"
   ]
  },
  {
   "cell_type": "code",
   "execution_count": 33,
   "id": "7cbfc9d3-44eb-4a81-a510-65304e82132d",
   "metadata": {},
   "outputs": [
    {
     "name": "stdout",
     "output_type": "stream",
     "text": [
      "After Replace Missing Values\n",
      "Min.Price    0\n",
      "Max.Price    0\n",
      "dtype: int64\n"
     ]
    },
    {
     "name": "stderr",
     "output_type": "stream",
     "text": [
      "/var/folders/s5/1lmxvww93pbfs820tmmc_8mm0000gn/T/ipykernel_96353/3051132061.py:8: FutureWarning: A value is trying to be set on a copy of a DataFrame or Series through chained assignment using an inplace method.\n",
      "The behavior will change in pandas 3.0. This inplace method will never work because the intermediate object on which we are setting values always behaves as a copy.\n",
      "\n",
      "For example, when doing 'df[col].method(value, inplace=True)', try using 'df.method({col: value}, inplace=True)' or df[col] = df[col].method(value) instead, to perform the operation inplace on the original object.\n",
      "\n",
      "\n",
      "  df['Min.Price'].fillna(mean_min_price, inplace=True)\n",
      "/var/folders/s5/1lmxvww93pbfs820tmmc_8mm0000gn/T/ipykernel_96353/3051132061.py:9: FutureWarning: A value is trying to be set on a copy of a DataFrame or Series through chained assignment using an inplace method.\n",
      "The behavior will change in pandas 3.0. This inplace method will never work because the intermediate object on which we are setting values always behaves as a copy.\n",
      "\n",
      "For example, when doing 'df[col].method(value, inplace=True)', try using 'df.method({col: value}, inplace=True)' or df[col] = df[col].method(value) instead, to perform the operation inplace on the original object.\n",
      "\n",
      "\n",
      "  df['Max.Price'].fillna(mean_max_price, inplace=True)\n"
     ]
    }
   ],
   "source": [
    "import pandas as pd\n",
    "\n",
    "df = pd.read_csv('https://raw.githubusercontent.com/selva86/datasets/master/Cars93_miss.csv')\n",
    "\n",
    "mean_min_price = df['Min.Price'].mean()\n",
    "mean_max_price = df['Max.Price'].mean()\n",
    "\n",
    "df['Min.Price'].fillna(mean_min_price, inplace=True)\n",
    "df['Max.Price'].fillna(mean_max_price, inplace=True)\n",
    "\n",
    "# verify\n",
    "print(\"After Replace Missing Values\")\n",
    "print(df[['Min.Price', 'Max.Price']].isnull().sum())"
   ]
  },
  {
   "cell_type": "markdown",
   "id": "6d34d509-af1a-4f3e-90d5-ff841fbadee9",
   "metadata": {},
   "source": [
    "3. How to get the rows of a dataframe with row sum > 100?\n",
    "df = pd.DataFrame(np.random.randint(10, 40, 60).reshape(-1, 4))"
   ]
  },
  {
   "cell_type": "code",
   "execution_count": 36,
   "id": "01d238aa-a63c-40bc-b0a7-6b5af42b306e",
   "metadata": {},
   "outputs": [
    {
     "name": "stdout",
     "output_type": "stream",
     "text": [
      "Rows sum > 100\n",
      "     0   1   2   3\n",
      "1   33  19  36  31\n",
      "2   30  26  23  22\n",
      "3   38  37  35  13\n",
      "6   38  14  34  31\n",
      "7   33  16  25  38\n",
      "12  30  16  29  32\n",
      "13  25  27  31  33\n"
     ]
    }
   ],
   "source": [
    "import pandas as pd\n",
    "import numpy as np\n",
    "\n",
    "df = pd.DataFrame(np.random.randint(10, 40, 60).reshape(-1, 4))\n",
    "\n",
    "row_sums = df.sum(axis=1)\n",
    "\n",
    "mask = row_sums > 100\n",
    "\n",
    "filtered_df = df[mask]\n",
    "\n",
    "print(\"Rows sum > 100\")\n",
    "print(filtered_df)"
   ]
  },
  {
   "cell_type": "code",
   "execution_count": null,
   "id": "b838e925-c307-4f46-86d6-91441b38503d",
   "metadata": {},
   "outputs": [],
   "source": []
  }
 ],
 "metadata": {
  "kernelspec": {
   "display_name": "Python 3 (ipykernel)",
   "language": "python",
   "name": "python3"
  },
  "language_info": {
   "codemirror_mode": {
    "name": "ipython",
    "version": 3
   },
   "file_extension": ".py",
   "mimetype": "text/x-python",
   "name": "python",
   "nbconvert_exporter": "python",
   "pygments_lexer": "ipython3",
   "version": "3.9.6"
  }
 },
 "nbformat": 4,
 "nbformat_minor": 5
}
