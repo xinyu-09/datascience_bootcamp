{
 "cells": [
  {
   "cell_type": "raw",
   "id": "1a447c04-9c00-4f29-b840-70b160cc0e29",
   "metadata": {},
   "source": [
    "1. Filter the data to include only weekdays (Monday to Friday) and plot a line graph showing the pedestrian counts for each day of the week."
   ]
  },
  {
   "cell_type": "code",
   "execution_count": 4,
   "id": "705ec9e8-193a-4ca1-9823-1b0b60ea323e",
   "metadata": {},
   "outputs": [],
   "source": [
    "import pandas as pd\n",
    "import matplotlib.pyplot as plt\n",
    "import seaborn as sns\n",
    "\n",
    "# set up notebook to show all outputs in a cell, not only last one\n",
    "\n",
    "\n",
    "from IPython.core.interactiveshell import InteractiveShell\n",
    "InteractiveShell.ast_node_interactivity = \"all\""
   ]
  },
  {
   "cell_type": "code",
   "execution_count": 5,
   "id": "ca5cca33-a639-470b-bc0d-6f66506aada9",
   "metadata": {},
   "outputs": [],
   "source": [
    "url = 'https://data.cityofnewyork.us/api/views/6fi9-q3ta/rows.csv?accessType=DOWNLOAD'\n",
    "df = pd.read_csv(url,sep=',')"
   ]
  },
  {
   "cell_type": "code",
   "execution_count": 12,
   "id": "24334605-8a47-4cd0-8ae4-73af9d3222fa",
   "metadata": {},
   "outputs": [
    {
     "data": {
      "text/html": [
       "<div>\n",
       "<style scoped>\n",
       "    .dataframe tbody tr th:only-of-type {\n",
       "        vertical-align: middle;\n",
       "    }\n",
       "\n",
       "    .dataframe tbody tr th {\n",
       "        vertical-align: top;\n",
       "    }\n",
       "\n",
       "    .dataframe thead th {\n",
       "        text-align: right;\n",
       "    }\n",
       "</style>\n",
       "<table border=\"1\" class=\"dataframe\">\n",
       "  <thead>\n",
       "    <tr style=\"text-align: right;\">\n",
       "      <th></th>\n",
       "      <th>hour_beginning</th>\n",
       "      <th>location</th>\n",
       "      <th>Pedestrians</th>\n",
       "      <th>Towards Manhattan</th>\n",
       "      <th>Towards Brooklyn</th>\n",
       "      <th>weather_summary</th>\n",
       "      <th>temperature</th>\n",
       "      <th>precipitation</th>\n",
       "      <th>lat</th>\n",
       "      <th>long</th>\n",
       "      <th>events</th>\n",
       "      <th>Location1</th>\n",
       "      <th>weekday</th>\n",
       "      <th>time_of_day</th>\n",
       "    </tr>\n",
       "  </thead>\n",
       "  <tbody>\n",
       "    <tr>\n",
       "      <th>0</th>\n",
       "      <td>2019-04-30 00:00:00</td>\n",
       "      <td>Brooklyn Bridge</td>\n",
       "      <td>3</td>\n",
       "      <td>3</td>\n",
       "      <td>0</td>\n",
       "      <td>NaN</td>\n",
       "      <td>NaN</td>\n",
       "      <td>NaN</td>\n",
       "      <td>40.708164</td>\n",
       "      <td>-73.999509</td>\n",
       "      <td>NaN</td>\n",
       "      <td>(40.7081639691088, -73.9995087014816)</td>\n",
       "      <td>Tuesday</td>\n",
       "      <td>Night</td>\n",
       "    </tr>\n",
       "    <tr>\n",
       "      <th>1</th>\n",
       "      <td>2019-12-31 22:00:00</td>\n",
       "      <td>Brooklyn Bridge</td>\n",
       "      <td>10</td>\n",
       "      <td>9</td>\n",
       "      <td>1</td>\n",
       "      <td>cloudy</td>\n",
       "      <td>42.0</td>\n",
       "      <td>0.0005</td>\n",
       "      <td>40.708164</td>\n",
       "      <td>-73.999509</td>\n",
       "      <td>NaN</td>\n",
       "      <td>(40.7081639691088, -73.9995087014816)</td>\n",
       "      <td>Tuesday</td>\n",
       "      <td>Night</td>\n",
       "    </tr>\n",
       "    <tr>\n",
       "      <th>2</th>\n",
       "      <td>2019-12-31 23:00:00</td>\n",
       "      <td>Brooklyn Bridge</td>\n",
       "      <td>2</td>\n",
       "      <td>0</td>\n",
       "      <td>2</td>\n",
       "      <td>cloudy</td>\n",
       "      <td>42.0</td>\n",
       "      <td>0.0004</td>\n",
       "      <td>40.708164</td>\n",
       "      <td>-73.999509</td>\n",
       "      <td>NaN</td>\n",
       "      <td>(40.7081639691088, -73.9995087014816)</td>\n",
       "      <td>Tuesday</td>\n",
       "      <td>Night</td>\n",
       "    </tr>\n",
       "    <tr>\n",
       "      <th>3</th>\n",
       "      <td>2019-12-31 21:00:00</td>\n",
       "      <td>Brooklyn Bridge</td>\n",
       "      <td>12</td>\n",
       "      <td>0</td>\n",
       "      <td>12</td>\n",
       "      <td>cloudy</td>\n",
       "      <td>42.0</td>\n",
       "      <td>0.0036</td>\n",
       "      <td>40.708164</td>\n",
       "      <td>-73.999509</td>\n",
       "      <td>NaN</td>\n",
       "      <td>(40.7081639691088, -73.9995087014816)</td>\n",
       "      <td>Tuesday</td>\n",
       "      <td>Night</td>\n",
       "    </tr>\n",
       "    <tr>\n",
       "      <th>4</th>\n",
       "      <td>2019-04-01 03:00:00</td>\n",
       "      <td>Brooklyn Bridge</td>\n",
       "      <td>1</td>\n",
       "      <td>0</td>\n",
       "      <td>1</td>\n",
       "      <td>clear-night</td>\n",
       "      <td>36.0</td>\n",
       "      <td>0.0000</td>\n",
       "      <td>40.708164</td>\n",
       "      <td>-73.999509</td>\n",
       "      <td>NaN</td>\n",
       "      <td>(40.7081639691088, -73.9995087014816)</td>\n",
       "      <td>Monday</td>\n",
       "      <td>Night</td>\n",
       "    </tr>\n",
       "  </tbody>\n",
       "</table>\n",
       "</div>"
      ],
      "text/plain": [
       "       hour_beginning         location  Pedestrians Towards Manhattan  \\\n",
       "0 2019-04-30 00:00:00  Brooklyn Bridge            3                 3   \n",
       "1 2019-12-31 22:00:00  Brooklyn Bridge           10                 9   \n",
       "2 2019-12-31 23:00:00  Brooklyn Bridge            2                 0   \n",
       "3 2019-12-31 21:00:00  Brooklyn Bridge           12                 0   \n",
       "4 2019-04-01 03:00:00  Brooklyn Bridge            1                 0   \n",
       "\n",
       "  Towards Brooklyn weather_summary  temperature  precipitation        lat  \\\n",
       "0                0             NaN          NaN            NaN  40.708164   \n",
       "1                1          cloudy         42.0         0.0005  40.708164   \n",
       "2                2          cloudy         42.0         0.0004  40.708164   \n",
       "3               12          cloudy         42.0         0.0036  40.708164   \n",
       "4                1     clear-night         36.0         0.0000  40.708164   \n",
       "\n",
       "        long events                              Location1  weekday  \\\n",
       "0 -73.999509    NaN  (40.7081639691088, -73.9995087014816)  Tuesday   \n",
       "1 -73.999509    NaN  (40.7081639691088, -73.9995087014816)  Tuesday   \n",
       "2 -73.999509    NaN  (40.7081639691088, -73.9995087014816)  Tuesday   \n",
       "3 -73.999509    NaN  (40.7081639691088, -73.9995087014816)  Tuesday   \n",
       "4 -73.999509    NaN  (40.7081639691088, -73.9995087014816)   Monday   \n",
       "\n",
       "  time_of_day  \n",
       "0       Night  \n",
       "1       Night  \n",
       "2       Night  \n",
       "3       Night  \n",
       "4       Night  "
      ]
     },
     "execution_count": 12,
     "metadata": {},
     "output_type": "execute_result"
    }
   ],
   "source": [
    "df.head()"
   ]
  },
  {
   "cell_type": "code",
   "execution_count": 13,
   "id": "caa889e2-1029-4d90-b884-7468d48eab20",
   "metadata": {},
   "outputs": [
    {
     "name": "stderr",
     "output_type": "stream",
     "text": [
      "/var/folders/s5/1lmxvww93pbfs820tmmc_8mm0000gn/T/ipykernel_9363/3158978660.py:6: UserWarning: Could not infer format, so each element will be parsed individually, falling back to `dateutil`. To ensure parsing is consistent and as-expected, please specify a format.\n",
      "  df['hour_beginning'] = pd.to_datetime(df['hour_beginning'], errors='coerce')\n"
     ]
    },
    {
     "data": {
      "text/plain": [
       "<Figure size 800x500 with 0 Axes>"
      ]
     },
     "execution_count": 13,
     "metadata": {},
     "output_type": "execute_result"
    },
    {
     "data": {
      "text/plain": [
       "[<matplotlib.lines.Line2D at 0x10b954df0>]"
      ]
     },
     "execution_count": 13,
     "metadata": {},
     "output_type": "execute_result"
    },
    {
     "data": {
      "text/plain": [
       "Text(0.5, 1.0, 'Pedestrian Counts by Weekday (Brooklyn Bridge)')"
      ]
     },
     "execution_count": 13,
     "metadata": {},
     "output_type": "execute_result"
    },
    {
     "data": {
      "text/plain": [
       "Text(0.5, 0, 'Weekday')"
      ]
     },
     "execution_count": 13,
     "metadata": {},
     "output_type": "execute_result"
    },
    {
     "data": {
      "text/plain": [
       "Text(0, 0.5, 'Total Pedestrian Count')"
      ]
     },
     "execution_count": 13,
     "metadata": {},
     "output_type": "execute_result"
    },
    {
     "data": {
      "image/png": "[encoded data removed]",
      "text/plain": [
       "<Figure size 800x500 with 1 Axes>"
      ]
     },
     "metadata": {},
     "output_type": "display_data"
    }
   ],
   "source": [
    "import pandas as pd\n",
    "import matplotlib.pyplot as plt\n",
    "\n",
    "# 1. 读取数据并转换日期\n",
    "df = pd.read_csv(\"Brooklyn_Bridge_Automated_Pedestrian_Counts_Demonstration_Project_20251024.csv\")\n",
    "df['hour_beginning'] = pd.to_datetime(df['hour_beginning'], errors='coerce')\n",
    "\n",
    "# 2. 提取星期几\n",
    "df['weekday'] = df['hour_beginning'].dt.day_name()\n",
    "\n",
    "# 3. 清理 Pedestrians 列（去掉逗号并转为数字）\n",
    "df['Pedestrians'] = pd.to_numeric(df['Pedestrians'].astype(str).str.replace(',', ''), errors='coerce')\n",
    "\n",
    "# 4. 筛选工作日\n",
    "weekdays = ['Monday', 'Tuesday', 'Wednesday', 'Thursday', 'Friday']\n",
    "weekdays_df = df[df['weekday'].isin(weekdays)]\n",
    "\n",
    "# 5. 统计每天总人数\n",
    "weekday_counts = weekdays_df.groupby('weekday')['Pedestrians'].sum().reindex(weekdays)\n",
    "\n",
    "# 6. 绘制折线图\n",
    "plt.figure(figsize=(8,5))\n",
    "plt.plot(weekday_counts.index, weekday_counts.values, marker='o', linewidth=2)\n",
    "plt.title('Pedestrian Counts by Weekday (Brooklyn Bridge)')\n",
    "plt.xlabel('Weekday')\n",
    "plt.ylabel('Total Pedestrian Count')\n",
    "plt.grid(True)\n",
    "plt.show()"
   ]
  },
  {
   "cell_type": "markdown",
   "id": "46e9f501-0049-423a-a298-9cb8b6affd3e",
   "metadata": {},
   "source": [
    "2. Track pedestrian counts on the Brooklyn Bridge for the year 2019 and analyze how different weather conditions influence pedestrian activity in that year. Sort the pedestrian count data by weather summary to identify any correlations( with a correlation matrix) between weather patterns and pedestrian counts for the selected year."
   ]
  },
  {
   "cell_type": "code",
   "execution_count": 10,
   "id": "d4d713f7-e63f-48f3-b6bc-32e7264f45a3",
   "metadata": {},
   "outputs": [
    {
     "name": "stdout",
     "output_type": "stream",
     "text": [
      "               Pedestrians  temperature  precipitation\n",
      "Pedestrians       1.000000     0.358757      -0.105432\n",
      "temperature       0.358757     1.000000       0.001911\n",
      "precipitation    -0.105432     0.001911       1.000000\n"
     ]
    }
   ],
   "source": [
    "# 1. 选择 2019 年的数据\n",
    "df_2019 = df[df['hour_beginning'].dt.year == 2019]\n",
    "\n",
    "# 2. 计算每种天气下的总行人数量\n",
    "weather_summary = df_2019.groupby('weather_summary')['Pedestrians'].sum().reset_index()\n",
    "\n",
    "# 3. 计算相关矩阵（例如温度、降水量、人数）\n",
    "corr = df_2019[['Pedestrians', 'temperature', 'precipitation']].corr()\n",
    "print(corr)\n"
   ]
  },
  {
   "cell_type": "markdown",
   "id": "34984b9a-0504-452b-9367-4459d150e9cb",
   "metadata": {},
   "source": [
    "3. Implement a custom function to categorize time of day intomorning, afternoon, evening, and night, and create a new column in the DataFrame to store these categories. Use this new column to analyze pedestrian activity patterns throughout the day."
   ]
  },
  {
   "cell_type": "code",
   "execution_count": 11,
   "id": "e3978aa5-1bc0-4f22-9e72-4baaad54d479",
   "metadata": {},
   "outputs": [
    {
     "name": "stdout",
     "output_type": "stream",
     "text": [
      "time_of_day\n",
      "Morning      2480582\n",
      "Afternoon    5852025\n",
      "Evening      2432145\n",
      "Night         268114\n",
      "Name: Pedestrians, dtype: int64\n"
     ]
    }
   ],
   "source": [
    "# 1. 定义函数\n",
    "def categorize_time(hour):\n",
    "    if 5 <= hour < 12:\n",
    "        return 'Morning'\n",
    "    elif 12 <= hour < 17:\n",
    "        return 'Afternoon'\n",
    "    elif 17 <= hour < 21:\n",
    "        return 'Evening'\n",
    "    else:\n",
    "        return 'Night'\n",
    "\n",
    "# 2. 添加新列\n",
    "df['time_of_day'] = df['hour_beginning'].dt.hour.apply(categorize_time)\n",
    "\n",
    "# 3. 分析一天中各时间段行人数量\n",
    "time_of_day_counts = df.groupby('time_of_day')['Pedestrians'].sum().reindex(['Morning', 'Afternoon', 'Evening', 'Night'])\n",
    "print(time_of_day_counts)\n"
   ]
  },
  {
   "cell_type": "code",
   "execution_count": null,
   "id": "a3ca2629-b967-4376-94b4-ba44399c6681",
   "metadata": {},
   "outputs": [],
   "source": []
  }
 ],
 "metadata": {
  "kernelspec": {
   "display_name": "Python 3 (ipykernel)",
   "language": "python",
   "name": "python3"
  },
  "language_info": {
   "codemirror_mode": {
    "name": "ipython",
    "version": 3
   },
   "file_extension": ".py",
   "mimetype": "text/x-python",
   "name": "python",
   "nbconvert_exporter": "python",
   "pygments_lexer": "ipython3",
   "version": "3.9.6"
  }
 },
 "nbformat": 4,
 "nbformat_minor": 5
}
