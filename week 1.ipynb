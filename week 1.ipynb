{
 "cells": [
  {
   "cell_type": "markdown",
   "id": "c260ef05-91f0-4fce-9e3a-9326108adc2c",
   "metadata": {},
   "source": [
    "1. Write a program that takes a word as an input and print the number of vowels in the word."
   ]
  },
  {
   "cell_type": "code",
   "execution_count": 6,
   "id": "091b3051-9ba5-4c0a-9352-50bb0e7220a1",
   "metadata": {},
   "outputs": [
    {
     "name": "stdin",
     "output_type": "stream",
     "text": [
      "Enter a word please:  AaEeIiOoUuqq\n"
     ]
    },
    {
     "name": "stdout",
     "output_type": "stream",
     "text": [
      "The number of vowels in the word AaEeIiOoUuqq contains 10 vowels.\n"
     ]
    }
   ],
   "source": [
    "word = input(\"Enter a word please: \")\n",
    "vowels = \"AaEeIiOoUu\"\n",
    "count = 0\n",
    "\n",
    "for i in word:\n",
    "    if i in vowels:\n",
    "        count += 1\n",
    "\n",
    "print(\"The number of vowels in the word\", word, \"contains\", count, \"vowels.\")"
   ]
  },
  {
   "cell_type": "markdown",
   "id": "b18a0b25-d53f-405f-9bdc-aa3d840dac3a",
   "metadata": {},
   "source": [
    "\n",
    "2. Iterate through the following list of animals and print each one in all caps.\n",
    "\n",
    "  animals=['tiger', 'elephant', 'monkey', 'zebra', 'panther']"
   ]
  },
  {
   "cell_type": "code",
   "execution_count": 9,
   "id": "6b8353c2-9b09-49af-8033-6c2164c09de9",
   "metadata": {},
   "outputs": [
    {
     "name": "stdout",
     "output_type": "stream",
     "text": [
      "TIGER\n",
      "ELEPHANT\n",
      "MONKEY\n",
      "ZEBRA\n",
      "PANTHER\n"
     ]
    }
   ],
   "source": [
    "animals=['tiger', 'elephant', 'monkey', 'zebra', 'panther']\n",
    "\n",
    "for i in animals:\n",
    "    print(i.upper())"
   ]
  },
  {
   "cell_type": "markdown",
   "id": "c4b6a332-3e40-4149-867e-284f7ec129e9",
   "metadata": {},
   "source": [
    "\n",
    "3. Write a program that iterates from 1 to 20, printing each number and whether it's odd or even."
   ]
  },
  {
   "cell_type": "code",
   "execution_count": 11,
   "id": "46c6c2e8-784f-4eff-b90e-bc4325c68b0a",
   "metadata": {
    "scrolled": true
   },
   "outputs": [
    {
     "name": "stdout",
     "output_type": "stream",
     "text": [
      "1 is odd\n",
      "2 is even\n",
      "3 is odd\n",
      "4 is even\n",
      "5 is odd\n",
      "6 is even\n",
      "7 is odd\n",
      "8 is even\n",
      "9 is odd\n",
      "10 is even\n",
      "11 is odd\n",
      "12 is even\n",
      "13 is odd\n",
      "14 is even\n",
      "15 is odd\n",
      "16 is even\n",
      "17 is odd\n",
      "18 is even\n",
      "19 is odd\n",
      "20 is even\n"
     ]
    }
   ],
   "source": [
    "for i in range(1,21):\n",
    "    if i % 2 == 0:\n",
    "        print(i, \"is even\")\n",
    "    else:\n",
    "        print(i, \"is odd\")"
   ]
  },
  {
   "cell_type": "markdown",
   "id": "c5bde17f-3f54-4177-b84d-c2ad1e8b2507",
   "metadata": {},
   "source": [
    "\n",
    "4. Write a program to check if a string is a palindrome or not."
   ]
  },
  {
   "cell_type": "code",
   "execution_count": 15,
   "id": "90cda233-bfce-4fb7-8e20-aa4f2d98ea57",
   "metadata": {},
   "outputs": [
    {
     "name": "stdin",
     "output_type": "stream",
     "text": [
      "Enter a string please:  mom\n"
     ]
    },
    {
     "name": "stdout",
     "output_type": "stream",
     "text": [
      "mom is a palindrom.\n"
     ]
    }
   ],
   "source": [
    "string = input(\"Enter a string please: \")\n",
    "\n",
    "reversedString = string[::-1]\n",
    "\n",
    "if string == reversedString:\n",
    "    print(string, \"is a palindrom.\")\n",
    "else:\n",
    "    print(string, \"is not palindrom.\")"
   ]
  },
  {
   "cell_type": "markdown",
   "id": "dee862fe-35c7-4472-a2ef-94c7d36270d3",
   "metadata": {},
   "source": [
    "\n",
    "5. Write a function sum_of_integers(a, b) that takes two integers as input from the user and returns their sum."
   ]
  },
  {
   "cell_type": "code",
   "execution_count": 20,
   "id": "f575402e-2a75-4241-984a-8ac657be39f6",
   "metadata": {},
   "outputs": [
    {
     "name": "stdin",
     "output_type": "stream",
     "text": [
      "Enter an integer please:  5\n",
      "Enter another integer please:  6\n"
     ]
    },
    {
     "name": "stdout",
     "output_type": "stream",
     "text": [
      "The sum of 5 and 6 is 11\n"
     ]
    }
   ],
   "source": [
    "def sum_of_integers(a, b):\n",
    "    return a + b\n",
    "    \n",
    "'''the input() function always returns user input as a string, no matter if you type in numbers or words'''\n",
    "i = int(input(\"Enter an integer please: \"))\n",
    "j = int(input(\"Enter another integer please: \"))\n",
    "\n",
    "print(\"The sum of\", i, \"and\", j, \"is\", sum_of_integers(i, j))"
   ]
  }
 ],
 "metadata": {
  "kernelspec": {
   "display_name": "Python 3 (ipykernel)",
   "language": "python",
   "name": "python3"
  },
  "language_info": {
   "codemirror_mode": {
    "name": "ipython",
    "version": 3
   },
   "file_extension": ".py",
   "mimetype": "text/x-python",
   "name": "python",
   "nbconvert_exporter": "python",
   "pygments_lexer": "ipython3",
   "version": "3.9.6"
  }
 },
 "nbformat": 4,
 "nbformat_minor": 5
}
